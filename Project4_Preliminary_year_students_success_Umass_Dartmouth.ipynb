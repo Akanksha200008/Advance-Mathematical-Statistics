{
  "nbformat": 4,
  "nbformat_minor": 0,
  "metadata": {
    "colab": {
      "provenance": [],
      "include_colab_link": true
    },
    "kernelspec": {
      "name": "python3",
      "display_name": "Python 3"
    },
    "language_info": {
      "name": "python"
    }
  },
  "cells": [
    {
      "cell_type": "markdown",
      "metadata": {
        "id": "view-in-github",
        "colab_type": "text"
      },
      "source": [
        "<a href=\"https://colab.research.google.com/github/Akanksha200008/Advance-Mathematical-Statistics/blob/main/Project4_Preliminary_year_students_success_Umass_Dartmouth.ipynb\" target=\"_parent\"><img src=\"https://colab.research.google.com/assets/colab-badge.svg\" alt=\"Open In Colab\"/></a>"
      ]
    },
    {
      "cell_type": "code",
      "execution_count": null,
      "metadata": {
        "colab": {
          "base_uri": "https://localhost:8080/"
        },
        "id": "Wu9OvGNysjwf",
        "outputId": "2f7c2ecc-8958-4387-b818-0444a86427b0"
      },
      "outputs": [
        {
          "output_type": "stream",
          "name": "stdout",
          "text": [
            "Model Performance Metrics:\n",
            "Accuracy: 0.9545454545454546\n",
            "Precision: 0.9411764705882353\n",
            "Recall: 1.0\n",
            "ROC AUC Score: 1.0\n"
          ]
        }
      ],
      "source": [
        "# Import necessary libraries for data processing and modeling\n",
        "import pandas as pd\n",
        "from sklearn.model_selection import train_test_split, GridSearchCV\n",
        "from sklearn.linear_model import LogisticRegression\n",
        "from sklearn.metrics import accuracy_score, precision_score, recall_score, roc_auc_score\n",
        "from sklearn.preprocessing import StandardScaler\n",
        "from sklearn.impute import SimpleImputer\n",
        "\n",
        "file_path = 'https://www.dropbox.com/scl/fi/lxmhgobfbyqc9nc60f22p/Preliminary-college-year.xlsx?rlkey=7j0v9zd72n33mwmpxm3r9dhwq&e=1&dl=1'\n",
        "\n",
        "# Read the Excel file into a DataFrame and specify the engine (e.g., 'openpyxl')\n",
        "df = pd.read_excel(file_path, engine='openpyxl')\n",
        "\n",
        "\n",
        "# Step 2: Initial data cleaning\n",
        "# Drop rows where the target variable (outcome) is missing\n",
        "df.dropna(subset=['Retained F17-F18? (1=yes, 0=no)'], inplace=True)\n",
        "\n",
        "# Remove unnecessary columns that do not contribute to prediction\n",
        "# These columns might have demographic or irrelevant details\n",
        "columns_to_remove = ['Federal Ethnic Group', 'Gender', 'Reason for not Completing Connect', 'Reason not Retained']\n",
        "df.drop(columns=columns_to_remove, axis=1, inplace=True)\n",
        "\n",
        "# Step 3: Define features (X) and target (y)\n",
        "# X will be all columns except the outcome, and y will be the outcome column\n",
        "X = df.drop(columns=['Retained F17-F18? (1=yes, 0=no)'])\n",
        "y = df['Retained F17-F18? (1=yes, 0=no)']\n",
        "\n",
        "# Step 4: Convert categorical data to numerical format using One-Hot Encoding\n",
        "# This step ensures all variables are in numeric form, suitable for logistic regression\n",
        "X = pd.get_dummies(X, drop_first=True)\n",
        "\n",
        "# Step 5: Handle any remaining missing values in the predictor data\n",
        "# Fill missing values in predictors with the mean of each column\n",
        "imputer = SimpleImputer(strategy='mean')\n",
        "X_imputed = pd.DataFrame(imputer.fit_transform(X), columns=X.columns)\n",
        "\n",
        "# Step 6: Feature Scaling\n",
        "# Standardize features to improve model performance\n",
        "scaler = StandardScaler()\n",
        "X_scaled = scaler.fit_transform(X_imputed)\n",
        "\n",
        "# Step 7: Split the data into training and testing sets\n",
        "# The data is split to allow model evaluation on unseen data (20% test set)\n",
        "X_train, X_test, y_train, y_test = train_test_split(X_scaled, y, test_size=0.2, random_state=42)\n",
        "\n",
        "# Step 8: Define and tune the logistic regression model\n",
        "# Using GridSearchCV to find the best model parameters (C value and penalty type)\n",
        "param_grid = {\n",
        "    'C': [0.001, 0.01, 0.1, 1, 10],  # Regularization strengths\n",
        "    'penalty': ['l1', 'l2'],         # Regularization types (only 'l1' and 'l2' are valid here)\n",
        "    'solver': ['liblinear']           # Solver 'liblinear' supports both 'l1' and 'l2' penalties\n",
        "}\n",
        "\n",
        "# Initialize the logistic regression model\n",
        "logistic_model = LogisticRegression(max_iter=1000, random_state=42)\n",
        "\n",
        "# Perform grid search for best hyperparameters\n",
        "grid_search = GridSearchCV(logistic_model, param_grid, cv=5, scoring='accuracy', n_jobs=-1)\n",
        "grid_search.fit(X_train, y_train)\n",
        "\n",
        "# Step 9: Evaluate the model using the test data\n",
        "# Use the best model obtained from grid search for predictions\n",
        "best_model = grid_search.best_estimator_\n",
        "\n",
        "# Predict class labels on the test data\n",
        "y_pred = best_model.predict(X_test)\n",
        "\n",
        "# Predict probabilities for ROC-AUC score calculation\n",
        "y_pred_prob = best_model.predict_proba(X_test)[:, 1]\n",
        "\n",
        "# Step 10: Calculate and display key performance metrics\n",
        "accuracy = accuracy_score(y_test, y_pred)  # Overall accuracy of predictions\n",
        "precision = precision_score(y_test, y_pred)  # Precision of positive predictions\n",
        "recall = recall_score(y_test, y_pred)        # Recall of true positives\n",
        "roc_auc = roc_auc_score(y_test, y_pred_prob) # ROC-AUC score for evaluating model's classification ability\n",
        "\n",
        "# Display all metrics\n",
        "print(f\"Model Performance Metrics:\")\n",
        "print(f\"Accuracy: {accuracy:}\")\n",
        "print(f\"Precision: {precision:}\")\n",
        "print(f\"Recall: {recall:}\")\n",
        "print(f\"ROC AUC Score: {roc_auc:}\")"
      ]
    }
  ]
}