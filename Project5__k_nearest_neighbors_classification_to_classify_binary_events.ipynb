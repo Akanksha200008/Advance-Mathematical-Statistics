{
  "nbformat": 4,
  "nbformat_minor": 0,
  "metadata": {
    "colab": {
      "provenance": [],
      "authorship_tag": "ABX9TyMwaCleMJ+h9R7rlSXllsVT",
      "include_colab_link": true
    },
    "kernelspec": {
      "name": "python3",
      "display_name": "Python 3"
    },
    "language_info": {
      "name": "python"
    }
  },
  "cells": [
    {
      "cell_type": "markdown",
      "metadata": {
        "id": "view-in-github",
        "colab_type": "text"
      },
      "source": [
        "<a href=\"https://colab.research.google.com/github/Akanksha200008/Advance-Mathematical-Statistics/blob/main/Project5__k_nearest_neighbors_classification_to_classify_binary_events.ipynb\" target=\"_parent\"><img src=\"https://colab.research.google.com/assets/colab-badge.svg\" alt=\"Open In Colab\"/></a>"
      ]
    },
    {
      "cell_type": "code",
      "source": [
        "import pandas as pd\n",
        "import numpy as np\n",
        "from sklearn.preprocessing import MinMaxScaler\n",
        "from sklearn.metrics import accuracy_score\n",
        "from datetime import datetime\n",
        "from scipy.spatial import distance\n",
        "\n",
        "# Load data\n",
        "data_url = \"https://mth522.wordpress.com/wp-content/uploads/2024/03/us-violence-brief-1.xls\"\n",
        "violence_data = pd.read_excel(data_url)\n",
        "\n",
        "# Combine 'year', 'month', 'day' columns to create a 'date_recorded' column\n",
        "violence_data['date_recorded'] = violence_data.apply(lambda row: datetime(int(row['year']), int(row['month']), int(row['day'])), axis=1)\n",
        "violence_data.drop(columns=['year', 'month', 'day'], inplace=True)\n",
        "\n",
        "# Scale 'latitude' and 'longitude' features using MinMaxScaler\n",
        "location_scaler = MinMaxScaler()\n",
        "violence_data[['latitude', 'longitude']] = location_scaler.fit_transform(violence_data[['latitude', 'longitude']])\n",
        "\n",
        "# Convert 'date_recorded' to timestamp in seconds\n",
        "violence_data['time_in_seconds'] = violence_data['date_recorded'].apply(lambda x: int(x.timestamp()))\n",
        "\n",
        "# Split data into training and testing sets based on date\n",
        "training_data = violence_data[violence_data['date_recorded'] < '2023-01-01']\n",
        "testing_data = violence_data[violence_data['date_recorded'] >= '2023-01-01']\n",
        "\n",
        "testing_data.loc[:, 'fatalities'] = testing_data['fatalities'].astype(int)\n",
        "\n",
        "# Define Euclidean distance function using scipy\n",
        "def calculate_distance(point1, point2):\n",
        "    coordinates1 = np.array([point1['latitude'], point1['longitude'], point1['time_in_seconds']])\n",
        "    coordinates2 = np.array([point2['latitude'], point2['longitude'], point2['time_in_seconds']])\n",
        "    return distance.euclidean(coordinates1, coordinates2)\n",
        "\n",
        "# Implement custom K-Nearest Neighbors function\n",
        "def knn_classifier(train_set, test_set, neighbors_count):\n",
        "    predictions_list = []\n",
        "\n",
        "    # Iterate over each test data point\n",
        "    for i in range(len(test_set)):\n",
        "        # Calculate all distances between the test point and each training point\n",
        "        distance_values = np.array([\n",
        "            calculate_distance(test_set.iloc[i], train_set.iloc[j]) for j in range(len(train_set))\n",
        "        ])\n",
        "        nearest_indices = np.argsort(distance_values)[:neighbors_count]\n",
        "        nearest_labels = train_set.iloc[nearest_indices, 0]\n",
        "        unique_labels, label_counts = np.unique(nearest_labels, return_counts=True)\n",
        "\n",
        "        # Predict the most frequent class among the neighbors\n",
        "        predicted_label = unique_labels[np.argmax(label_counts)]\n",
        "        predictions_list.append(predicted_label)\n",
        "\n",
        "    return predictions_list\n",
        "\n",
        "k_options = [1, 3, 5, 7, 9, 11]\n",
        "\n",
        "# Evaluate KNN for each k value in k_options\n",
        "for neighbors_count in k_options:\n",
        "    predicted_values = knn_classifier(training_data, testing_data, neighbors_count)\n",
        "    predicted_values = [int(pred) for pred in predicted_values]\n",
        "    model_accuracy = accuracy_score(testing_data['fatalities'], predicted_values)\n",
        "    print(f\"Model accuracy for k={neighbors_count}: {model_accuracy:}\")\n",
        "\n",
        "    # Calculate the fraction of correctly classified data points in 2023\n",
        "    correct_classification_fraction = np.mean(np.array(predicted_values) == testing_data['fatalities'].values)\n",
        "    print(f\"Fraction of correctly classified data points for k={neighbors_count}: {correct_classification_fraction}\")\n"
      ],
      "metadata": {
        "colab": {
          "base_uri": "https://localhost:8080/"
        },
        "id": "zt8fQtND9us0",
        "outputId": "12d2cad0-e409-4e35-d658-ae597ccb660f"
      },
      "execution_count": null,
      "outputs": [
        {
          "output_type": "stream",
          "name": "stdout",
          "text": [
            "Model accuracy for k=1: 0.8341013824884793\n",
            "Fraction of correctly classified data points for k=1: 0.8341013824884793\n",
            "Model accuracy for k=3: 0.8341013824884793\n",
            "Fraction of correctly classified data points for k=3: 0.8341013824884793\n",
            "Model accuracy for k=5: 0.8341013824884793\n",
            "Fraction of correctly classified data points for k=5: 0.8341013824884793\n",
            "Model accuracy for k=7: 0.8341013824884793\n",
            "Fraction of correctly classified data points for k=7: 0.8341013824884793\n",
            "Model accuracy for k=9: 0.8341013824884793\n",
            "Fraction of correctly classified data points for k=9: 0.8341013824884793\n",
            "Model accuracy for k=11: 0.8341013824884793\n",
            "Fraction of correctly classified data points for k=11: 0.8341013824884793\n"
          ]
        }
      ]
    }
  ]
}